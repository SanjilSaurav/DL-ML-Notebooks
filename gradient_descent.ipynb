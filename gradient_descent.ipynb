{
 "cells": [
  {
   "cell_type": "markdown",
   "id": "e96ff376",
   "metadata": {},
   "source": [
    "### Gradient Descent Algorithm"
   ]
  },
  {
   "cell_type": "code",
   "execution_count": 3,
   "id": "c497d6f5",
   "metadata": {},
   "outputs": [],
   "source": [
    "import numpy as np"
   ]
  },
  {
   "cell_type": "code",
   "execution_count": 4,
   "id": "b86bf440",
   "metadata": {},
   "outputs": [],
   "source": [
    "def sigmoid(X):\n",
    "    return 1/(1+np.exp(-X))"
   ]
  },
  {
   "cell_type": "code",
   "execution_count": 6,
   "id": "6a02bd49",
   "metadata": {},
   "outputs": [],
   "source": [
    "def log_loss(y_pred, y_true):\n",
    "    ep = 1e-15\n",
    "    y_pred_new = [max(i, ep) for i in y_pred]\n",
    "    y_pred_new = [min (i, 1-ep) for i in y_pred_new]\n",
    "    y_pred_new = np.array(y_pred_new)\n",
    "    return -np.mean(y_true*np.log(y_pred_new)+(1-y_true)*np.log(1-y_pred_new))"
   ]
  },
  {
   "cell_type": "code",
   "execution_count": 7,
   "id": "e1fa3d5b",
   "metadata": {},
   "outputs": [],
   "source": [
    "def gradient_descent(ft1, ft2, y_true, epochs, loss_threshold):\n",
    "    w1 = w2 = 1\n",
    "    bias = 0\n",
    "    alpha = 0.05\n",
    "    n = len(ft1)\n",
    "    for i in range(epochs):\n",
    "        weighed_sum = w1*ft1 + w2*ft2 +bias\n",
    "        y_pred = sigmoid(weighed_sum)\n",
    "        loss = log_loss(y_pred, y_true)\n",
    "        dw1 = (1/n)*np.dot(np.transpose(ft1),(y_pred-y_true)) \n",
    "        dw2 = (1/n)*np.dot(np.transpose(ft2),(y_pred-y_true))\n",
    "        db = np.mean(y_pred - y_true)\n",
    "\n",
    "        w1 = w1 - alpha * dw1\n",
    "        w2 -= (alpha * dw2)\n",
    "        bias -= (alpha * db)\n",
    "        print (f'Epoch:{i}, w1:{w1}, w2:{w2}, bias:{bias}, loss:{loss}')\n",
    "        if loss <= loss_threshold:\n",
    "            break\n",
    "    return w1, w2, bias"
   ]
  },
  {
   "cell_type": "code",
   "execution_count": null,
   "id": "8392195b",
   "metadata": {},
   "outputs": [],
   "source": []
  }
 ],
 "metadata": {
  "kernelspec": {
   "display_name": "base",
   "language": "python",
   "name": "python3"
  },
  "language_info": {
   "codemirror_mode": {
    "name": "ipython",
    "version": 3
   },
   "file_extension": ".py",
   "mimetype": "text/x-python",
   "name": "python",
   "nbconvert_exporter": "python",
   "pygments_lexer": "ipython3",
   "version": "3.12.7"
  }
 },
 "nbformat": 4,
 "nbformat_minor": 5
}
