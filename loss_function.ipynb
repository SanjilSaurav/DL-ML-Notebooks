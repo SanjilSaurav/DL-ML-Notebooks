{
 "cells": [
  {
   "cell_type": "code",
   "execution_count": 35,
   "id": "9daaef88",
   "metadata": {},
   "outputs": [],
   "source": [
    "import numpy as np\n"
   ]
  },
  {
   "cell_type": "code",
   "execution_count": 36,
   "id": "d7355285",
   "metadata": {},
   "outputs": [],
   "source": [
    "y_predicted = np.array([1,1,0,0,1])\n",
    "y_true = np.array([0.30, 0.7, 1,0,0.5])"
   ]
  },
  {
   "cell_type": "code",
   "execution_count": 37,
   "id": "e8f22c35",
   "metadata": {},
   "outputs": [],
   "source": [
    "def find_abs_mean(y_predicted, y_true):\n",
    "    sm = 0\n",
    "    for yp, yt in zip(y_predicted, y_true):\n",
    "        sm += abs(yt-yp)\n",
    "    mae = sm/len(y_true)\n",
    "    return mae"
   ]
  },
  {
   "cell_type": "code",
   "execution_count": 38,
   "id": "eefce969",
   "metadata": {},
   "outputs": [
    {
     "data": {
      "text/plain": [
       "0.5"
      ]
     },
     "execution_count": 38,
     "metadata": {},
     "output_type": "execute_result"
    }
   ],
   "source": [
    "find_abs_mean(y_predicted, y_true)"
   ]
  },
  {
   "cell_type": "code",
   "execution_count": 39,
   "id": "a058f58c",
   "metadata": {},
   "outputs": [],
   "source": [
    "def mae_np(y_predicted, y_true):\n",
    "    return np.mean(abs(y_predicted - y_true))"
   ]
  },
  {
   "cell_type": "code",
   "execution_count": 40,
   "id": "bc04db17",
   "metadata": {},
   "outputs": [
    {
     "data": {
      "text/plain": [
       "0.5"
      ]
     },
     "execution_count": 40,
     "metadata": {},
     "output_type": "execute_result"
    }
   ],
   "source": [
    "mae_np(y_predicted, y_true)"
   ]
  },
  {
   "cell_type": "markdown",
   "id": "c5276e7c",
   "metadata": {},
   "source": [
    "### Implement Log loss"
   ]
  },
  {
   "cell_type": "code",
   "execution_count": 41,
   "id": "fa685425",
   "metadata": {},
   "outputs": [
    {
     "name": "stderr",
     "output_type": "stream",
     "text": [
      "C:\\Users\\saura\\AppData\\Local\\Temp\\ipykernel_13224\\1899684472.py:1: RuntimeWarning: divide by zero encountered in log\n",
      "  np.log([0,1])\n"
     ]
    },
    {
     "data": {
      "text/plain": [
       "array([-inf,   0.])"
      ]
     },
     "execution_count": 41,
     "metadata": {},
     "output_type": "execute_result"
    }
   ],
   "source": [
    "np.log([0,1])"
   ]
  },
  {
   "cell_type": "code",
   "execution_count": 42,
   "id": "60a7372a",
   "metadata": {},
   "outputs": [],
   "source": [
    "ep = 1e-15"
   ]
  },
  {
   "cell_type": "code",
   "execution_count": 43,
   "id": "31684424",
   "metadata": {},
   "outputs": [
    {
     "data": {
      "text/plain": [
       "array([-34.53877639])"
      ]
     },
     "execution_count": 43,
     "metadata": {},
     "output_type": "execute_result"
    }
   ],
   "source": [
    "np.log([ep])"
   ]
  },
  {
   "cell_type": "code",
   "execution_count": 44,
   "id": "c5ba3bf2",
   "metadata": {},
   "outputs": [
    {
     "data": {
      "text/plain": [
       "[1, 1, 1e-15, 1e-15, 1]"
      ]
     },
     "execution_count": 44,
     "metadata": {},
     "output_type": "execute_result"
    }
   ],
   "source": [
    "y_pred_new = [max(i, ep) for i in y_predicted]\n",
    "y_pred_new\n"
   ]
  },
  {
   "cell_type": "code",
   "execution_count": 45,
   "id": "a0f048d9",
   "metadata": {},
   "outputs": [
    {
     "data": {
      "text/plain": [
       "0.999999999999999"
      ]
     },
     "execution_count": 45,
     "metadata": {},
     "output_type": "execute_result"
    }
   ],
   "source": [
    "1-ep"
   ]
  },
  {
   "cell_type": "code",
   "execution_count": 46,
   "id": "f658496e",
   "metadata": {},
   "outputs": [
    {
     "data": {
      "text/plain": [
       "[0.999999999999999, 0.999999999999999, 1e-15, 1e-15, 0.999999999999999]"
      ]
     },
     "execution_count": 46,
     "metadata": {},
     "output_type": "execute_result"
    }
   ],
   "source": [
    "y_pred_new = [min(i, 1-ep) for i in y_pred_new]\n",
    "y_pred_new"
   ]
  },
  {
   "cell_type": "code",
   "execution_count": 47,
   "id": "cc96047e",
   "metadata": {},
   "outputs": [],
   "source": [
    "y_pred_new = np.array(y_pred_new)"
   ]
  },
  {
   "cell_type": "code",
   "execution_count": 48,
   "id": "16e5e9e0",
   "metadata": {},
   "outputs": [
    {
     "data": {
      "text/plain": [
       "array([-9.99200722e-16, -9.99200722e-16, -3.45387764e+01, -3.45387764e+01,\n",
       "       -9.99200722e-16])"
      ]
     },
     "execution_count": 48,
     "metadata": {},
     "output_type": "execute_result"
    }
   ],
   "source": [
    "np.log(y_pred_new)"
   ]
  },
  {
   "cell_type": "code",
   "execution_count": 49,
   "id": "ea30dcee",
   "metadata": {},
   "outputs": [
    {
     "data": {
      "text/plain": [
       "17.2696280766844"
      ]
     },
     "execution_count": 49,
     "metadata": {},
     "output_type": "execute_result"
    }
   ],
   "source": [
    "-np.mean(y_true*np.log(y_pred_new)+(1-y_true)*np.log(1-y_pred_new))"
   ]
  },
  {
   "cell_type": "code",
   "execution_count": 50,
   "id": "e47c560a",
   "metadata": {},
   "outputs": [],
   "source": [
    "def log_loss(y_pred, y_true):\n",
    "    y_pred_new = [max(i, ep) for i in y_pred]\n",
    "    y_pred_new = [min (i, 1-ep) for i in y_pred_new]\n",
    "    y_pred_new = np.array(y_pred_new)\n",
    "    return -np.mean(y_true*np.log(y_pred_new)+(1-y_true)*np.log(1-y_pred_new))"
   ]
  },
  {
   "cell_type": "code",
   "execution_count": 51,
   "id": "acdb8dc7",
   "metadata": {},
   "outputs": [
    {
     "data": {
      "text/plain": [
       "17.2696280766844"
      ]
     },
     "execution_count": 51,
     "metadata": {},
     "output_type": "execute_result"
    }
   ],
   "source": [
    "log_loss(y_predicted, y_true)"
   ]
  },
  {
   "cell_type": "markdown",
   "id": "83e0916c",
   "metadata": {},
   "source": [
    "### Mean Squared Error"
   ]
  },
  {
   "cell_type": "code",
   "execution_count": 52,
   "id": "6d83e86e",
   "metadata": {},
   "outputs": [],
   "source": [
    "def mse_wo_np(y_pred, y_tr):\n",
    "    sqsm = 0\n",
    "    for pr, tr in zip(y_pred, y_tr):\n",
    "        sqsm += (pr-tr)**2\n",
    "    return sqsm/len(y_pred)"
   ]
  },
  {
   "cell_type": "code",
   "execution_count": 53,
   "id": "5f71f76a",
   "metadata": {},
   "outputs": [
    {
     "data": {
      "text/plain": [
       "0.366"
      ]
     },
     "execution_count": 53,
     "metadata": {},
     "output_type": "execute_result"
    }
   ],
   "source": [
    "mse_wo_np(y_predicted, y_true)"
   ]
  },
  {
   "cell_type": "code",
   "execution_count": 54,
   "id": "efb7e97b",
   "metadata": {},
   "outputs": [],
   "source": [
    "def mse_w_np(y_pred, y_tr):\n",
    "    return np.mean(np.square(y_pred - y_tr))"
   ]
  },
  {
   "cell_type": "code",
   "execution_count": 55,
   "id": "e71bd49c",
   "metadata": {},
   "outputs": [
    {
     "data": {
      "text/plain": [
       "0.366"
      ]
     },
     "execution_count": 55,
     "metadata": {},
     "output_type": "execute_result"
    }
   ],
   "source": [
    "mse_w_np(y_predicted, y_true)"
   ]
  },
  {
   "cell_type": "code",
   "execution_count": null,
   "id": "5cfbe05a",
   "metadata": {},
   "outputs": [],
   "source": []
  }
 ],
 "metadata": {
  "kernelspec": {
   "display_name": "base",
   "language": "python",
   "name": "python3"
  },
  "language_info": {
   "codemirror_mode": {
    "name": "ipython",
    "version": 3
   },
   "file_extension": ".py",
   "mimetype": "text/x-python",
   "name": "python",
   "nbconvert_exporter": "python",
   "pygments_lexer": "ipython3",
   "version": "3.12.7"
  }
 },
 "nbformat": 4,
 "nbformat_minor": 5
}
